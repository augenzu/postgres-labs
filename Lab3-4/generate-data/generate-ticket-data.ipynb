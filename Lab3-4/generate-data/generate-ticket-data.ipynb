{
 "cells": [
  {
   "cell_type": "code",
   "execution_count": 1,
   "metadata": {},
   "outputs": [],
   "source": [
    "SMALL_SZ = 1_000_000\n",
    "BLOCK_SZ = 10_000_000"
   ]
  },
  {
   "cell_type": "code",
   "execution_count": 2,
   "metadata": {},
   "outputs": [],
   "source": [
    "import numpy as np\n",
    "import pandas as pd\n",
    "import json\n",
    "import csv\n",
    "from mimesis import Generic"
   ]
  },
  {
   "cell_type": "code",
   "execution_count": 4,
   "metadata": {},
   "outputs": [],
   "source": [
    "g = Generic('en')"
   ]
  },
  {
   "cell_type": "markdown",
   "metadata": {},
   "source": [
    "### ticket"
   ]
  },
  {
   "cell_type": "code",
   "execution_count": 6,
   "metadata": {
    "scrolled": true
   },
   "outputs": [],
   "source": [
    "%%time\n",
    "t_customer_ids = np.random.randint(low=1, high=SMALL_SZ+1, size=BLOCK_SZ)\n",
    "t_fest_ids = np.random.randint(low=1, high=SMALL_SZ+1, size=BLOCK_SZ)\n",
    "t_price_ids = np.random.randint(low=1, high=11, size=BLOCK_SZ)\n",
    "t_purchase_dates = [g.datetime.date(start=2015, end=2020) for _ in range(BLOCK_SZ)]\n",
    "\n",
    "ticket = pd.DataFrame({\n",
    "    'customer_id': t_customer_ids,\n",
    "    'fest_id': t_fest_ids,\n",
    "    'price_id': t_price_ids,\n",
    "    'purchase_date': t_purchase_dates\n",
    "})\n",
    "\n",
    "ticket.to_csv('../data/ticket1.csv', header=False, \n",
    "                index=False, sep='\\t', quoting=csv.QUOTE_NONE)\n",
    "# and then the same for ticket2.csv, ticket3.csv, ..., ticket10.csv"
   ]
  },
  {
   "cell_type": "markdown",
   "metadata": {},
   "source": [
    "### Special for ticket-y2021m01"
   ]
  },
  {
   "cell_type": "code",
   "execution_count": 34,
   "metadata": {},
   "outputs": [
    {
     "data": {
      "text/plain": [
       "'2021-01-27'"
      ]
     },
     "execution_count": 34,
     "metadata": {},
     "output_type": "execute_result"
    }
   ],
   "source": [
    "'2021-01-' + f'{(np.random.randint(low=1, high=32)):02}'"
   ]
  },
  {
   "cell_type": "code",
   "execution_count": 39,
   "metadata": {},
   "outputs": [],
   "source": [
    "# %%time\n",
    "t2101_customer_ids = np.random.randint(low=1, high=SMALL_SZ+1, size=SMALL_SZ)\n",
    "t2101_fest_ids = np.random.randint(low=1, high=SMALL_SZ+1, size=SMALL_SZ)\n",
    "t2101_price_ids = np.random.randint(low=1, high=11, size=SMALL_SZ)\n",
    "t2101_purchase_dates = [\n",
    "    '2021-01-' + f'{(np.random.randint(low=1, high=32)):02}' \n",
    "    for _ in range(SMALL_SZ)\n",
    "]\n",
    "\n",
    "ticket2101 = pd.DataFrame({\n",
    "    'customer_id': t2101_customer_ids,\n",
    "    'fest_id': t2101_fest_ids,\n",
    "    'price_id': t2101_price_ids,\n",
    "    'purchase_date': t2101_purchase_dates\n",
    "})\n",
    "\n",
    "ticket2101.to_csv('../data/ticket2101.csv', header=False, \n",
    "                index=False, sep='\\t', quoting=csv.QUOTE_NONE)"
   ]
  },
  {
   "cell_type": "code",
   "execution_count": null,
   "metadata": {},
   "outputs": [],
   "source": []
  }
 ],
 "metadata": {
  "kernelspec": {
   "display_name": "Python 3",
   "language": "python",
   "name": "python3"
  },
  "language_info": {
   "codemirror_mode": {
    "name": "ipython",
    "version": 3
   },
   "file_extension": ".py",
   "mimetype": "text/x-python",
   "name": "python",
   "nbconvert_exporter": "python",
   "pygments_lexer": "ipython3",
   "version": "3.8.5"
  }
 },
 "nbformat": 4,
 "nbformat_minor": 4
}
