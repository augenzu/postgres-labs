{
 "cells": [
  {
   "cell_type": "code",
   "execution_count": 1,
   "metadata": {},
   "outputs": [],
   "source": [
    "# lens of tables\n",
    "SMALL_SZ = 1_000_000\n",
    "BIG_SZ = 100_000_000   # for ticket\n",
    "BLOCK_SZ = 10_000_000  # for ticket"
   ]
  },
  {
   "cell_type": "code",
   "execution_count": 2,
   "metadata": {},
   "outputs": [],
   "source": [
    "import numpy as np\n",
    "import pandas as pd\n",
    "import json\n",
    "import csv\n",
    "from mimesis import Generic"
   ]
  },
  {
   "cell_type": "code",
   "execution_count": 4,
   "metadata": {},
   "outputs": [],
   "source": [
    "def fmt(s):\n",
    "    return \"{{{}}}\".format(\", \".join(map(str,s)))"
   ]
  },
  {
   "cell_type": "code",
   "execution_count": 3,
   "metadata": {},
   "outputs": [],
   "source": [
    "g = Generic('en')"
   ]
  },
  {
   "cell_type": "markdown",
   "metadata": {},
   "source": [
    "### customer"
   ]
  },
  {
   "cell_type": "code",
   "execution_count": 80,
   "metadata": {},
   "outputs": [],
   "source": [
    "def customer_info():\n",
    "    info = {'name': g.person.full_name(), \n",
    "            'contacts': {'email': g.person.email(), \n",
    "                         'number': g.person.telephone()}, \n",
    "            'age': g.person.age(), \n",
    "            'nationality': g.person.nationality()}\n",
    "    return json.dumps(info)"
   ]
  },
  {
   "cell_type": "code",
   "execution_count": 81,
   "metadata": {},
   "outputs": [
    {
     "name": "stdout",
     "output_type": "stream",
     "text": [
      "CPU times: user 32.7 s, sys: 431 ms, total: 33.1 s\n",
      "Wall time: 33.2 s\n"
     ]
    }
   ],
   "source": [
    "%%time\n",
    "c_customer_infos = [customer_info() for _ in range(SMALL_SZ)]\n",
    "\n",
    "customer = pd.DataFrame({\n",
    "    'customer_info': c_customer_infos\n",
    "})\n",
    "\n",
    "customer.to_csv('../data/customer.csv', header=False, \n",
    "                index=False, sep='\\t', quoting=csv.QUOTE_NONE)"
   ]
  },
  {
   "cell_type": "markdown",
   "metadata": {},
   "source": [
    "### ticket"
   ]
  },
  {
   "cell_type": "code",
   "execution_count": 75,
   "metadata": {
    "scrolled": true
   },
   "outputs": [
    {
     "name": "stdout",
     "output_type": "stream",
     "text": [
      "CPU times: user 7.65 s, sys: 184 ms, total: 7.83 s\n",
      "Wall time: 7.84 s\n"
     ]
    }
   ],
   "source": [
    "%%time\n",
    "t_customer_ids = np.random.randint(low=1, high=SMALL_SZ+1, size=BLOCK_SZ)\n",
    "t_fest_ids = np.random.randint(low=1, high=SMALL_SZ+1, size=BLOCK_SZ)\n",
    "t_price_ids = np.random.randint(low=1, high=11, size=BLOCK_SZ)\n",
    "\n",
    "ticket = pd.DataFrame({\n",
    "    'customer_id': t_customer_ids,\n",
    "    'fest_id': t_fest_ids,\n",
    "    'price_id': t_price_ids\n",
    "})\n",
    "\n",
    "ticket.to_csv('../data/ticket10.csv', header=False, \n",
    "                index=False, sep='\\t', quoting=csv.QUOTE_NONE)\n",
    "# and then the same for ticket2.csv, ticket3.csv, ..., ticket10.csv"
   ]
  },
  {
   "cell_type": "markdown",
   "metadata": {},
   "source": [
    "### fest"
   ]
  },
  {
   "cell_type": "code",
   "execution_count": 89,
   "metadata": {},
   "outputs": [],
   "source": [
    "def ratings():\n",
    "    r = np.random.randint(low=50, high=1500, size=10)\n",
    "    return fmt(r)\n",
    "\n",
    "\n",
    "def prices():\n",
    "    p = np.sort(np.random.randint(low=1, high=21, size=10)) * 10\n",
    "    return fmt(p)\n",
    "\n",
    "\n",
    "def n_tickets():\n",
    "    t = np.random.randint(low=40, high=1400, size=10)\n",
    "    return fmt(t)"
   ]
  },
  {
   "cell_type": "code",
   "execution_count": 90,
   "metadata": {},
   "outputs": [
    {
     "name": "stdout",
     "output_type": "stream",
     "text": [
      "CPU times: user 1min 6s, sys: 720 ms, total: 1min 6s\n",
      "Wall time: 1min 9s\n"
     ]
    }
   ],
   "source": [
    "%%time\n",
    "f_ratings = [ratings() for _ in range(SMALL_SZ)]\n",
    "f_prices = [prices() for _ in range(SMALL_SZ)]\n",
    "f_n_tickets = [n_tickets() for _ in range(SMALL_SZ)]\n",
    "\n",
    "fest = pd.DataFrame({\n",
    "    'ratings': f_ratings,\n",
    "    'prices': f_prices,\n",
    "    'n_tickets': f_n_tickets\n",
    "})\n",
    "\n",
    "fest.to_csv('../data/fest.csv', header=False, \n",
    "                index=False, sep='\\t', quoting=csv.QUOTE_NONE)"
   ]
  },
  {
   "cell_type": "markdown",
   "metadata": {},
   "source": [
    "### genre"
   ]
  },
  {
   "cell_type": "code",
   "execution_count": 7,
   "metadata": {},
   "outputs": [],
   "source": [
    "def total_ratings():\n",
    "    tr = np.random.randint(low=1_000, high=15_000_000, size=10)\n",
    "    return fmt(tr)"
   ]
  },
  {
   "cell_type": "code",
   "execution_count": 15,
   "metadata": {},
   "outputs": [],
   "source": [
    "g_genre_names = ['hard rock', 'industrial metal', 'heavy metal', \n",
    "          'gothic metal', 'gothic rock', 'glam metal', \n",
    "          'glam rock', 'industrial rock', 'arena rock', \n",
    "          'pop rock', 'NDH', 'EBM', 'alternative metal', \n",
    "          'progressive metal', 'metalcore', 'rap rock', \n",
    "          'rock', 'trash metal', 'industrial techno', \n",
    "          'shock rock', 'nu metal', 'art rock', 'space rock', \n",
    "          'synth rock', 'dance rock', 'electronic rock', \n",
    "          'electro-industrial', 'symphonic metal', \n",
    "          'indie rock', 'garage rock', 'post-punk', \n",
    "          'blues rock', 'rock and roll', 'funk rock', \n",
    "          'funk metal', 'experimental', 'alternative rock', \n",
    "          'neoclassic metal']\n",
    "G_SZ = len(g_genre_names)"
   ]
  },
  {
   "cell_type": "code",
   "execution_count": 16,
   "metadata": {},
   "outputs": [
    {
     "name": "stdout",
     "output_type": "stream",
     "text": [
      "CPU times: user 1.17 ms, sys: 2.97 ms, total: 4.14 ms\n",
      "Wall time: 3.3 ms\n"
     ]
    }
   ],
   "source": [
    "%%time\n",
    "g_ratings = [total_ratings() for _ in range(G_SZ)]\n",
    "g_total_revenues = np.random.randint(low=20_000, high=100_000_000, size=G_SZ)\n",
    "g_total_tickets = np.random.randint(low=8_000, high=300_000, size=G_SZ)\n",
    "\n",
    "genre = pd.DataFrame({\n",
    "    'genre_name': g_genre_names,\n",
    "    'ratings': g_ratings,\n",
    "    'total_revenue': g_total_revenues,\n",
    "    'total_tickets': g_total_tickets\n",
    "})\n",
    "\n",
    "genre.to_csv('../data/genre.csv', header=False, \n",
    "                index=False, sep='\\t', quoting=csv.QUOTE_NONE)"
   ]
  },
  {
   "cell_type": "markdown",
   "metadata": {},
   "source": [
    "### genre_fest"
   ]
  },
  {
   "cell_type": "code",
   "execution_count": 20,
   "metadata": {},
   "outputs": [],
   "source": [
    "MED_SZ = 4_000_000"
   ]
  },
  {
   "cell_type": "code",
   "execution_count": 21,
   "metadata": {},
   "outputs": [
    {
     "name": "stdout",
     "output_type": "stream",
     "text": [
      "CPU times: user 2.03 s, sys: 39.8 ms, total: 2.07 s\n",
      "Wall time: 2.07 s\n"
     ]
    }
   ],
   "source": [
    "%%time\n",
    "gf_genre_ids = np.random.randint(low=1, high=G_SZ+1, size=MED_SZ)\n",
    "gf_fest_ids = np.random.randint(low=1, high=SMALL_SZ+1, size=MED_SZ)\n",
    "\n",
    "genre_fest = pd.DataFrame({\n",
    "    'genre_id': gf_genre_ids,\n",
    "    'fest_id': gf_fest_ids\n",
    "})\n",
    "\n",
    "genre_fest.to_csv('../data/genre_fest.csv', header=False, \n",
    "                index=False, sep='\\t', quoting=csv.QUOTE_NONE)"
   ]
  },
  {
   "cell_type": "markdown",
   "metadata": {},
   "source": [
    "### rewiew"
   ]
  },
  {
   "cell_type": "code",
   "execution_count": 88,
   "metadata": {},
   "outputs": [
    {
     "name": "stdout",
     "output_type": "stream",
     "text": [
      "CPU times: user 5.02 s, sys: 251 ms, total: 5.27 s\n",
      "Wall time: 5.48 s\n"
     ]
    }
   ],
   "source": [
    "%%time\n",
    "r_customer_ids = np.random.randint(low=1, high=SMALL_SZ+1, size=SMALL_SZ)\n",
    "r_fest_ids = np.random.randint(low=1, high=SMALL_SZ+1, size=SMALL_SZ)\n",
    "r_ratings = np.random.randint(low=1, high=11, size=SMALL_SZ)\n",
    "r_contents = [g.text.text(2) for _ in range(SMALL_SZ)]\n",
    "\n",
    "rewiew = pd.DataFrame({\n",
    "    'customer_id': r_customer_ids,\n",
    "    'fest_id': r_fest_ids,\n",
    "    'rating': r_ratings,\n",
    "    'content': r_contents\n",
    "})\n",
    "\n",
    "rewiew.to_csv('../data/rewiew.csv', header=False, \n",
    "                index=False, sep='\\t', quoting=csv.QUOTE_NONE)"
   ]
  },
  {
   "cell_type": "code",
   "execution_count": null,
   "metadata": {},
   "outputs": [],
   "source": []
  },
  {
   "cell_type": "code",
   "execution_count": null,
   "metadata": {},
   "outputs": [],
   "source": []
  },
  {
   "cell_type": "code",
   "execution_count": null,
   "metadata": {},
   "outputs": [],
   "source": []
  },
  {
   "cell_type": "code",
   "execution_count": null,
   "metadata": {},
   "outputs": [],
   "source": []
  },
  {
   "cell_type": "code",
   "execution_count": null,
   "metadata": {},
   "outputs": [],
   "source": []
  },
  {
   "cell_type": "code",
   "execution_count": null,
   "metadata": {},
   "outputs": [],
   "source": []
  },
  {
   "cell_type": "code",
   "execution_count": null,
   "metadata": {},
   "outputs": [],
   "source": []
  },
  {
   "cell_type": "code",
   "execution_count": null,
   "metadata": {},
   "outputs": [],
   "source": []
  },
  {
   "cell_type": "code",
   "execution_count": null,
   "metadata": {},
   "outputs": [],
   "source": []
  },
  {
   "cell_type": "markdown",
   "metadata": {},
   "source": [
    "Какую статистику и зачем собираем?\n",
    "\n",
    "Анализируем ... в зависимости от ...\n",
    "\n",
    "1) Популярность жанров/групп -страны -возраста\n",
    "2) Цены билетов\n",
    "3) Кореляция цены/оценки/отзывов\n",
    "4) В какой стране самые популярные/больше всего фестивалей\n",
    "5) Средняя оценка/МО/std/..."
   ]
  }
 ],
 "metadata": {
  "kernelspec": {
   "display_name": "Python 3",
   "language": "python",
   "name": "python3"
  },
  "language_info": {
   "codemirror_mode": {
    "name": "ipython",
    "version": 3
   },
   "file_extension": ".py",
   "mimetype": "text/x-python",
   "name": "python",
   "nbconvert_exporter": "python",
   "pygments_lexer": "ipython3",
   "version": "3.8.5"
  }
 },
 "nbformat": 4,
 "nbformat_minor": 4
}
